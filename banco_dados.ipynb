{
 "cells": [
  {
   "cell_type": "code",
   "execution_count": 1,
   "metadata": {},
   "outputs": [],
   "source": [
    "import psycopg2"
   ]
  },
  {
   "cell_type": "code",
   "execution_count": 3,
   "metadata": {},
   "outputs": [
    {
     "name": "stdout",
     "output_type": "stream",
     "text": [
      "Conexão estabelecida com sucesso!\n",
      "Tabela 'tb_cliente' criada com sucesso!\n",
      "Registros inseridos com sucesso!\n",
      "Conexão fechada.\n"
     ]
    }
   ],
   "source": [
    "\n",
    "\n",
    "# Dados de acesso ao banco\n",
    "hostname = 'dpg-cs3u05o8fa8c73dhme30-a.oregon-postgres.render.com'\n",
    "port = 5432\n",
    "database = 'test_database_62yd'\n",
    "username = 'root'\n",
    "password = 'a4D65IiLJicqrNtxFn5SJkMc4TLI6zqj'\n",
    "\n",
    "# Conexão com o banco de dados PostgreSQL\n",
    "try:\n",
    "    conn = psycopg2.connect(\n",
    "        host=hostname,\n",
    "        port=port,\n",
    "        database=database,\n",
    "        user=username,\n",
    "        password=password\n",
    "    )\n",
    "    cursor = conn.cursor()\n",
    "    print(\"Conexão estabelecida com sucesso!\")\n",
    "\n",
    "    # Criação da tabela tb_cliente\n",
    "    cursor.execute('''\n",
    "        CREATE TABLE IF NOT EXISTS tb_cliente (\n",
    "            id SERIAL PRIMARY KEY,\n",
    "            nome VARCHAR(100),\n",
    "            telefone VARCHAR(15),\n",
    "            salario FLOAT\n",
    "        );\n",
    "    ''')\n",
    "    print(\"Tabela 'tb_cliente' criada com sucesso!\")\n",
    "\n",
    "    # Inserir 10 registros na tabela tb_cliente\n",
    "    clientes = [\n",
    "        ('João Silva', '555-1234', 2000.00),\n",
    "        ('Maria Oliveira', '555-2345', 3000.50),\n",
    "        ('Pedro Souza', '555-3456', 4000.75),\n",
    "        ('Ana Pereira', '555-4567', 2500.80),\n",
    "        ('Carlos Alberto', '555-5678', 3200.00),\n",
    "        ('Paula Lima', '555-6789', 2900.90),\n",
    "        ('Fernanda Gomes', '555-7890', 4100.10),\n",
    "        ('Rodrigo Silva', '555-8901', 3800.20),\n",
    "        ('Lucas Andrade', '555-9012', 2750.30),\n",
    "        ('Juliana Santos', '555-0123', 3150.40)\n",
    "    ]\n",
    "\n",
    "    insert_query = '''\n",
    "        INSERT INTO tb_cliente (nome, telefone, salario)\n",
    "        VALUES (%s, %s, %s)\n",
    "    '''\n",
    "    \n",
    "    cursor.executemany(insert_query, clientes)\n",
    "    conn.commit()\n",
    "    print(\"Registros inseridos com sucesso!\")\n",
    "\n",
    "except Exception as e:\n",
    "    print(f\"Erro ao acessar o banco de dados: {e}\")\n",
    "\n",
    "finally:\n",
    "    if conn:\n",
    "        cursor.close()\n",
    "        conn.close()\n",
    "        print(\"Conexão fechada.\")\n"
   ]
  }
 ],
 "metadata": {
  "kernelspec": {
   "display_name": "Python 3",
   "language": "python",
   "name": "python3"
  },
  "language_info": {
   "codemirror_mode": {
    "name": "ipython",
    "version": 3
   },
   "file_extension": ".py",
   "mimetype": "text/x-python",
   "name": "python",
   "nbconvert_exporter": "python",
   "pygments_lexer": "ipython3",
   "version": "3.9.7"
  }
 },
 "nbformat": 4,
 "nbformat_minor": 2
}
